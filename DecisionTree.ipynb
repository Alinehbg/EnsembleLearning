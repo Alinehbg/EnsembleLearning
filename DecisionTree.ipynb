{
  "nbformat": 4,
  "nbformat_minor": 0,
  "metadata": {
    "colab": {
      "provenance": [],
      "toc_visible": true
    },
    "kernelspec": {
      "name": "python3",
      "display_name": "Python 3"
    },
    "language_info": {
      "name": "python"
    }
  },
  "cells": [
    {
      "cell_type": "code",
      "execution_count": 107,
      "metadata": {
        "id": "TaG0tBK3sPZm"
      },
      "outputs": [],
      "source": [
        "## Imports\n",
        "\n",
        "import pandas as pd\n",
        "import numpy as np\n",
        "\n",
        "from sklearn.datasets import fetch_california_housing ## regression dataset\n",
        "from sklearn.datasets import load_wine ## classification dataset\n",
        "\n",
        "from sklearn.model_selection import train_test_split\n",
        "from sklearn.tree import DecisionTreeClassifier\n",
        "from sklearn.tree import DecisionTreeRegressor\n",
        "from sklearn.metrics import mean_squared_error\n",
        "from sklearn.metrics import accuracy_score\n",
        "from sklearn.metrics import precision_score, recall_score, f1_score\n",
        "from sklearn.metrics import r2_score\n"
      ]
    },
    {
      "cell_type": "markdown",
      "source": [
        "# **Algorithm: Build a decision tree from scratch**"
      ],
      "metadata": {
        "id": "Q6zzYhTTSUlr"
      }
    },
    {
      "cell_type": "code",
      "source": [
        "## Algorithm to build decision tree from scratch\n",
        "\n",
        "class DecisionTree:\n",
        "    def __init__(self, depth=0, max_depth=None, min_samples_split=2,min_samples_leaf=1,task='classification'):\n",
        "        self.depth = depth\n",
        "        self.max_depth = max_depth\n",
        "        self.min_samples_leaf=min_samples_leaf\n",
        "        self.min_samples_split = min_samples_split\n",
        "        self.task = task\n",
        "        self.feature_index = None\n",
        "        self.split_threshold = None\n",
        "        self.left_child = None\n",
        "        self.right_child = None\n",
        "        self.label = None\n",
        "        self.n_leaves = 0\n",
        "        \n",
        "    def fit(self, X, y):\n",
        "        X = np.array(X) \n",
        "        y = np.array(y) \n",
        "        n_samples, n_features = X.shape\n",
        "        best_gain = -np.inf\n",
        "        \n",
        "         # task identification & check if we need to stop splitting\n",
        "    \n",
        "        if self.task == 'classification':\n",
        "            n_labels = len(np.unique(y))\n",
        "            # leaf node\n",
        "            if (n_samples < self.min_samples_split) or (self.depth == self.max_depth) or (n_labels == 1):\n",
        "                self.label = self._most_common_label(y)\n",
        "                print(\"Leaf Node: Depth={}, Samples={}, Class={}, Gini Impurity={:.2f}\".format(self.depth, len(y), self.label, self._gini(y)))\n",
        "                return\n",
        "\n",
        "        else: # regression task\n",
        "            n_labels = 1 \n",
        "            # leaf node\n",
        "            if (n_samples < self.min_samples_split) or (self.depth == self.max_depth):\n",
        "                self.label = np.mean(y) \n",
        "                print(\"Leaf Node: Depth={}, Samples={}, Value={:.2f}, MSE={:.2f}\".format(self.depth, len(y), self.label,self._mse(y)))\n",
        "                return\n",
        "       \n",
        "        \n",
        "        # loop over all features to find the best split\n",
        "        for feature in range(n_features):\n",
        "            unique_values = np.unique(X[:, feature])\n",
        "            for threshold in unique_values:\n",
        "                left_indices = X[:, feature] <= threshold\n",
        "                right_indices = X[:, feature] > threshold\n",
        "                \n",
        "                if (len(y[left_indices]) < 1) or (len(y[right_indices]) < 1):\n",
        "                    continue\n",
        "                    \n",
        "                if self.task == 'classification':\n",
        "                    gain = self._gini_gain(y, left_indices, right_indices)\n",
        "                else:\n",
        "                    gain = self._mse_gain(y, left_indices, right_indices)\n",
        "                \n",
        "                if gain > best_gain:\n",
        "                    best_gain = gain\n",
        "                    self.feature_index = feature\n",
        "                    self.split_threshold = threshold\n",
        "                \n",
        "        \n",
        "        # split the data and recursively build subtrees\n",
        "        left_indices = X[:, self.feature_index] <= self.split_threshold\n",
        "        right_indices = X[:, self.feature_index] > self.split_threshold\n",
        "        \n",
        "        self.left_child = DecisionTree(depth=self.depth+1, max_depth=self.max_depth, min_samples_split=self.min_samples_split, task=self.task)\n",
        "        self.left_child.fit(X[left_indices], y[left_indices])\n",
        "        \n",
        "        self.right_child = DecisionTree(depth=self.depth+1, max_depth=self.max_depth, min_samples_split=self.min_samples_split, task=self.task)\n",
        "        self.right_child.fit(X[right_indices], y[right_indices])\n",
        "    \n",
        "        ### Characteristics of splitting node\n",
        "        if self.task == 'classification':\n",
        "          print(\"Splitting Node: Depth={}, Samples={}, Feature={}, Threshold={}, Gain={:.2f}, Gini Impurity={:.2f}\".\\\n",
        "                format(self.depth, len(y), self.feature_index, self.split_threshold, best_gain, self._gini(y)))\n",
        "          \n",
        "        else:\n",
        "          print(\"Splitting Node: Depth={}, Samples={}, Feature={}, Threshold={}, Gain={:.2f}, MSE={:.2f}\".\\\n",
        "                format(self.depth, len(y), self.feature_index, self.split_threshold, best_gain, self._mse(y)))\n",
        "        \n",
        "\n",
        "    # assign a class to leaf node (classification task) \n",
        "    def _most_common_label(self, y):\n",
        "        labels, counts = np.unique(y, return_counts=True)\n",
        "        return labels[np.argmax(counts)]\n",
        "    \n",
        "\n",
        "    # choose best split in classification task\n",
        "    def _gini_gain(self, y, left_indices, right_indices):\n",
        "        p = len(y[left_indices]) / (len(y[left_indices]) + len(y[right_indices]))\n",
        "        return self._gini(y) - p * self._gini(y[left_indices]) - (1-p) * self._gini(y[right_indices])\n",
        "    \n",
        "    def _gini(self, y):\n",
        "        classes, counts = np.unique(y, return_counts=True)\n",
        "        p = counts / len(y)\n",
        "        return 1 - np.sum(p**2)\n",
        "\n",
        "    # choose best split in regression task\n",
        "    def _mse_gain(self, y, left_indices, right_indices):\n",
        "        return self._mse(y) - len(y[left_indices])/len(y) * self._mse(y[left_indices]) - len(y[right_indices])/len(y) * self._mse(y[right_indices])\n",
        "    \n",
        "    def _mse(self, y):\n",
        "        return np.mean((y - np.mean(y))**2)\n",
        "\n",
        "\n",
        "    # number of leaves in the tree\n",
        "    def count_leaves(self):\n",
        "        if self.left_child is None and self.right_child is None:\n",
        "            return 1\n",
        "        else:\n",
        "            return self.left_child.count_leaves() + self.right_child.count_leaves()\n",
        "\n",
        "\n",
        "    # predict values of test set  \n",
        "    def predict(self,X):\n",
        "        if self.label is not None:\n",
        "            return self.label\n",
        "        elif X[self.feature_index] <= self.split_threshold: \n",
        "            return self.left_child.predict(X)\n",
        "        else:\n",
        "            return self.right_child.predict(X)"
      ],
      "metadata": {
        "id": "xlnnDwuSsgu-"
      },
      "execution_count": 108,
      "outputs": []
    },
    {
      "cell_type": "markdown",
      "source": [
        "# **Classification task**"
      ],
      "metadata": {
        "id": "MjZvehPI4Tz2"
      }
    },
    {
      "cell_type": "code",
      "source": [
        "# Load wine dataset\n",
        "wine = load_wine(as_frame = True)\n",
        "df = pd.concat([wine.data, wine.target], axis=1)\n",
        "print ('number of rows in the dataset:',len(df))\n",
        "df.head()"
      ],
      "metadata": {
        "colab": {
          "base_uri": "https://localhost:8080/",
          "height": 224
        },
        "id": "s1Itp6Hj4TOU",
        "outputId": "dfb8790b-7a52-40bb-9f63-25636e5d4d8b"
      },
      "execution_count": 109,
      "outputs": [
        {
          "output_type": "stream",
          "name": "stdout",
          "text": [
            "number of rows in the dataset: 178\n"
          ]
        },
        {
          "output_type": "execute_result",
          "data": {
            "text/plain": [
              "   alcohol  malic_acid   ash  alcalinity_of_ash  magnesium  total_phenols  \\\n",
              "0    14.23        1.71  2.43               15.6      127.0           2.80   \n",
              "1    13.20        1.78  2.14               11.2      100.0           2.65   \n",
              "2    13.16        2.36  2.67               18.6      101.0           2.80   \n",
              "3    14.37        1.95  2.50               16.8      113.0           3.85   \n",
              "4    13.24        2.59  2.87               21.0      118.0           2.80   \n",
              "\n",
              "   flavanoids  nonflavanoid_phenols  proanthocyanins  color_intensity   hue  \\\n",
              "0        3.06                  0.28             2.29             5.64  1.04   \n",
              "1        2.76                  0.26             1.28             4.38  1.05   \n",
              "2        3.24                  0.30             2.81             5.68  1.03   \n",
              "3        3.49                  0.24             2.18             7.80  0.86   \n",
              "4        2.69                  0.39             1.82             4.32  1.04   \n",
              "\n",
              "   od280/od315_of_diluted_wines  proline  target  \n",
              "0                          3.92   1065.0       0  \n",
              "1                          3.40   1050.0       0  \n",
              "2                          3.17   1185.0       0  \n",
              "3                          3.45   1480.0       0  \n",
              "4                          2.93    735.0       0  "
            ],
            "text/html": [
              "\n",
              "  <div id=\"df-9be0e2d0-4c1f-4ef2-9f1f-e4d0183788ff\">\n",
              "    <div class=\"colab-df-container\">\n",
              "      <div>\n",
              "<style scoped>\n",
              "    .dataframe tbody tr th:only-of-type {\n",
              "        vertical-align: middle;\n",
              "    }\n",
              "\n",
              "    .dataframe tbody tr th {\n",
              "        vertical-align: top;\n",
              "    }\n",
              "\n",
              "    .dataframe thead th {\n",
              "        text-align: right;\n",
              "    }\n",
              "</style>\n",
              "<table border=\"1\" class=\"dataframe\">\n",
              "  <thead>\n",
              "    <tr style=\"text-align: right;\">\n",
              "      <th></th>\n",
              "      <th>alcohol</th>\n",
              "      <th>malic_acid</th>\n",
              "      <th>ash</th>\n",
              "      <th>alcalinity_of_ash</th>\n",
              "      <th>magnesium</th>\n",
              "      <th>total_phenols</th>\n",
              "      <th>flavanoids</th>\n",
              "      <th>nonflavanoid_phenols</th>\n",
              "      <th>proanthocyanins</th>\n",
              "      <th>color_intensity</th>\n",
              "      <th>hue</th>\n",
              "      <th>od280/od315_of_diluted_wines</th>\n",
              "      <th>proline</th>\n",
              "      <th>target</th>\n",
              "    </tr>\n",
              "  </thead>\n",
              "  <tbody>\n",
              "    <tr>\n",
              "      <th>0</th>\n",
              "      <td>14.23</td>\n",
              "      <td>1.71</td>\n",
              "      <td>2.43</td>\n",
              "      <td>15.6</td>\n",
              "      <td>127.0</td>\n",
              "      <td>2.80</td>\n",
              "      <td>3.06</td>\n",
              "      <td>0.28</td>\n",
              "      <td>2.29</td>\n",
              "      <td>5.64</td>\n",
              "      <td>1.04</td>\n",
              "      <td>3.92</td>\n",
              "      <td>1065.0</td>\n",
              "      <td>0</td>\n",
              "    </tr>\n",
              "    <tr>\n",
              "      <th>1</th>\n",
              "      <td>13.20</td>\n",
              "      <td>1.78</td>\n",
              "      <td>2.14</td>\n",
              "      <td>11.2</td>\n",
              "      <td>100.0</td>\n",
              "      <td>2.65</td>\n",
              "      <td>2.76</td>\n",
              "      <td>0.26</td>\n",
              "      <td>1.28</td>\n",
              "      <td>4.38</td>\n",
              "      <td>1.05</td>\n",
              "      <td>3.40</td>\n",
              "      <td>1050.0</td>\n",
              "      <td>0</td>\n",
              "    </tr>\n",
              "    <tr>\n",
              "      <th>2</th>\n",
              "      <td>13.16</td>\n",
              "      <td>2.36</td>\n",
              "      <td>2.67</td>\n",
              "      <td>18.6</td>\n",
              "      <td>101.0</td>\n",
              "      <td>2.80</td>\n",
              "      <td>3.24</td>\n",
              "      <td>0.30</td>\n",
              "      <td>2.81</td>\n",
              "      <td>5.68</td>\n",
              "      <td>1.03</td>\n",
              "      <td>3.17</td>\n",
              "      <td>1185.0</td>\n",
              "      <td>0</td>\n",
              "    </tr>\n",
              "    <tr>\n",
              "      <th>3</th>\n",
              "      <td>14.37</td>\n",
              "      <td>1.95</td>\n",
              "      <td>2.50</td>\n",
              "      <td>16.8</td>\n",
              "      <td>113.0</td>\n",
              "      <td>3.85</td>\n",
              "      <td>3.49</td>\n",
              "      <td>0.24</td>\n",
              "      <td>2.18</td>\n",
              "      <td>7.80</td>\n",
              "      <td>0.86</td>\n",
              "      <td>3.45</td>\n",
              "      <td>1480.0</td>\n",
              "      <td>0</td>\n",
              "    </tr>\n",
              "    <tr>\n",
              "      <th>4</th>\n",
              "      <td>13.24</td>\n",
              "      <td>2.59</td>\n",
              "      <td>2.87</td>\n",
              "      <td>21.0</td>\n",
              "      <td>118.0</td>\n",
              "      <td>2.80</td>\n",
              "      <td>2.69</td>\n",
              "      <td>0.39</td>\n",
              "      <td>1.82</td>\n",
              "      <td>4.32</td>\n",
              "      <td>1.04</td>\n",
              "      <td>2.93</td>\n",
              "      <td>735.0</td>\n",
              "      <td>0</td>\n",
              "    </tr>\n",
              "  </tbody>\n",
              "</table>\n",
              "</div>\n",
              "      <button class=\"colab-df-convert\" onclick=\"convertToInteractive('df-9be0e2d0-4c1f-4ef2-9f1f-e4d0183788ff')\"\n",
              "              title=\"Convert this dataframe to an interactive table.\"\n",
              "              style=\"display:none;\">\n",
              "        \n",
              "  <svg xmlns=\"http://www.w3.org/2000/svg\" height=\"24px\"viewBox=\"0 0 24 24\"\n",
              "       width=\"24px\">\n",
              "    <path d=\"M0 0h24v24H0V0z\" fill=\"none\"/>\n",
              "    <path d=\"M18.56 5.44l.94 2.06.94-2.06 2.06-.94-2.06-.94-.94-2.06-.94 2.06-2.06.94zm-11 1L8.5 8.5l.94-2.06 2.06-.94-2.06-.94L8.5 2.5l-.94 2.06-2.06.94zm10 10l.94 2.06.94-2.06 2.06-.94-2.06-.94-.94-2.06-.94 2.06-2.06.94z\"/><path d=\"M17.41 7.96l-1.37-1.37c-.4-.4-.92-.59-1.43-.59-.52 0-1.04.2-1.43.59L10.3 9.45l-7.72 7.72c-.78.78-.78 2.05 0 2.83L4 21.41c.39.39.9.59 1.41.59.51 0 1.02-.2 1.41-.59l7.78-7.78 2.81-2.81c.8-.78.8-2.07 0-2.86zM5.41 20L4 18.59l7.72-7.72 1.47 1.35L5.41 20z\"/>\n",
              "  </svg>\n",
              "      </button>\n",
              "      \n",
              "  <style>\n",
              "    .colab-df-container {\n",
              "      display:flex;\n",
              "      flex-wrap:wrap;\n",
              "      gap: 12px;\n",
              "    }\n",
              "\n",
              "    .colab-df-convert {\n",
              "      background-color: #E8F0FE;\n",
              "      border: none;\n",
              "      border-radius: 50%;\n",
              "      cursor: pointer;\n",
              "      display: none;\n",
              "      fill: #1967D2;\n",
              "      height: 32px;\n",
              "      padding: 0 0 0 0;\n",
              "      width: 32px;\n",
              "    }\n",
              "\n",
              "    .colab-df-convert:hover {\n",
              "      background-color: #E2EBFA;\n",
              "      box-shadow: 0px 1px 2px rgba(60, 64, 67, 0.3), 0px 1px 3px 1px rgba(60, 64, 67, 0.15);\n",
              "      fill: #174EA6;\n",
              "    }\n",
              "\n",
              "    [theme=dark] .colab-df-convert {\n",
              "      background-color: #3B4455;\n",
              "      fill: #D2E3FC;\n",
              "    }\n",
              "\n",
              "    [theme=dark] .colab-df-convert:hover {\n",
              "      background-color: #434B5C;\n",
              "      box-shadow: 0px 1px 3px 1px rgba(0, 0, 0, 0.15);\n",
              "      filter: drop-shadow(0px 1px 2px rgba(0, 0, 0, 0.3));\n",
              "      fill: #FFFFFF;\n",
              "    }\n",
              "  </style>\n",
              "\n",
              "      <script>\n",
              "        const buttonEl =\n",
              "          document.querySelector('#df-9be0e2d0-4c1f-4ef2-9f1f-e4d0183788ff button.colab-df-convert');\n",
              "        buttonEl.style.display =\n",
              "          google.colab.kernel.accessAllowed ? 'block' : 'none';\n",
              "\n",
              "        async function convertToInteractive(key) {\n",
              "          const element = document.querySelector('#df-9be0e2d0-4c1f-4ef2-9f1f-e4d0183788ff');\n",
              "          const dataTable =\n",
              "            await google.colab.kernel.invokeFunction('convertToInteractive',\n",
              "                                                     [key], {});\n",
              "          if (!dataTable) return;\n",
              "\n",
              "          const docLinkHtml = 'Like what you see? Visit the ' +\n",
              "            '<a target=\"_blank\" href=https://colab.research.google.com/notebooks/data_table.ipynb>data table notebook</a>'\n",
              "            + ' to learn more about interactive tables.';\n",
              "          element.innerHTML = '';\n",
              "          dataTable['output_type'] = 'display_data';\n",
              "          await google.colab.output.renderOutput(dataTable, element);\n",
              "          const docLink = document.createElement('div');\n",
              "          docLink.innerHTML = docLinkHtml;\n",
              "          element.appendChild(docLink);\n",
              "        }\n",
              "      </script>\n",
              "    </div>\n",
              "  </div>\n",
              "  "
            ]
          },
          "metadata": {},
          "execution_count": 109
        }
      ]
    },
    {
      "cell_type": "code",
      "source": [
        "# Split the dataset\n",
        "X_train, X_test, y_train, y_test = train_test_split(wine.data, wine.target, test_size=0.2)"
      ],
      "metadata": {
        "id": "8fvu6aY54TL-"
      },
      "execution_count": 110,
      "outputs": []
    },
    {
      "cell_type": "code",
      "source": [
        "# Application of our algorithm for classification task\n",
        "\n",
        "## Create object and choose parameters\n",
        "tree = DecisionTree(max_depth=10, min_samples_split=4) \n",
        "\n",
        "## Construction of tree from training data and display nodes characteristics\n",
        "tree.fit(X_train, y_train) \n",
        "\n",
        "## Use 'count_leaves' method to print the number of leaves in the tree\n",
        "print('\\n Number of leaves in the tree:', tree.count_leaves())"
      ],
      "metadata": {
        "colab": {
          "base_uri": "https://localhost:8080/"
        },
        "id": "aoqxQ9jw4TJn",
        "outputId": "1ce83f3d-dfe7-455a-8fb2-9064bf8f4874"
      },
      "execution_count": 111,
      "outputs": [
        {
          "output_type": "stream",
          "name": "stdout",
          "text": [
            "Leaf Node: Depth=3, Samples=4, Class=1, Gini Impurity=0.00\n",
            "Leaf Node: Depth=4, Samples=28, Class=2, Gini Impurity=0.00\n",
            "Leaf Node: Depth=4, Samples=1, Class=1, Gini Impurity=0.00\n",
            "Splitting Node: Depth=3, Samples=29, Feature=6, Threshold=1.57, Gain=0.07, Gini Impurity=0.07\n",
            "Splitting Node: Depth=2, Samples=33, Feature=3, Threshold=16.8, Gain=0.20, Gini Impurity=0.26\n",
            "Leaf Node: Depth=3, Samples=1, Class=2, Gini Impurity=0.00\n",
            "Leaf Node: Depth=4, Samples=46, Class=1, Gini Impurity=0.00\n",
            "Leaf Node: Depth=5, Samples=1, Class=0, Gini Impurity=0.00\n",
            "Leaf Node: Depth=5, Samples=3, Class=1, Gini Impurity=0.00\n",
            "Splitting Node: Depth=4, Samples=4, Feature=0, Threshold=13.24, Gain=0.38, Gini Impurity=0.38\n",
            "Splitting Node: Depth=3, Samples=50, Feature=0, Threshold=13.11, Gain=0.01, Gini Impurity=0.04\n",
            "Splitting Node: Depth=2, Samples=51, Feature=6, Threshold=0.5, Gain=0.04, Gini Impurity=0.08\n",
            "Splitting Node: Depth=1, Samples=84, Feature=11, Threshold=2.15, Gain=0.32, Gini Impurity=0.47\n",
            "Leaf Node: Depth=3, Samples=2, Class=1, Gini Impurity=0.00\n",
            "Leaf Node: Depth=3, Samples=6, Class=2, Gini Impurity=0.00\n",
            "Splitting Node: Depth=2, Samples=8, Feature=1, Threshold=1.61, Gain=0.38, Gini Impurity=0.38\n",
            "Leaf Node: Depth=3, Samples=48, Class=0, Gini Impurity=0.00\n",
            "Leaf Node: Depth=3, Samples=2, Class=1, Gini Impurity=0.00\n",
            "Splitting Node: Depth=2, Samples=50, Feature=4, Threshold=132.0, Gain=0.08, Gini Impurity=0.08\n",
            "Splitting Node: Depth=1, Samples=58, Feature=6, Threshold=2.14, Gain=0.18, Gini Impurity=0.30\n",
            "Splitting Node: Depth=0, Samples=142, Feature=12, Threshold=718.0, Gain=0.25, Gini Impurity=0.65\n",
            "\n",
            " Number of leaves in the tree: 11\n"
          ]
        }
      ]
    },
    {
      "cell_type": "code",
      "source": [
        "## Predictions on test set using the 'predict' method\n",
        "y_pred = np.array([tree.predict(x) for x in X_test.values])"
      ],
      "metadata": {
        "id": "Z9aMYr514THS"
      },
      "execution_count": 112,
      "outputs": []
    },
    {
      "cell_type": "code",
      "source": [
        "## Comparison between predicted and true values\n",
        "\n",
        "# Predicted values\n",
        "unique, counts = np.unique(y_pred, return_counts=True)\n",
        "print(\"Predicted  with DT from scratch: \",)\n",
        "print(\"Number of 0s:\", counts[0])\n",
        "print(\"Number of 1s:\", counts[1])\n",
        "print(\"Number of 2s:\", counts[2], '\\n')\n",
        "\n",
        "# True values of test set\n",
        "unique, counts = np.unique(y_test, return_counts=True)\n",
        "print(\"True values with DT from scratch:\",)\n",
        "print(\"Number of 0s:\", counts[0])\n",
        "print(\"Number of 1s:\", counts[1])\n",
        "print(\"Number of 2s:\", counts[2])\n"
      ],
      "metadata": {
        "colab": {
          "base_uri": "https://localhost:8080/"
        },
        "id": "xVO1tL5W6EcN",
        "outputId": "f011f222-45b7-4d93-c99c-1d5294763783"
      },
      "execution_count": 113,
      "outputs": [
        {
          "output_type": "stream",
          "name": "stdout",
          "text": [
            "Predicted  with DT from scratch: \n",
            "Number of 0s: 10\n",
            "Number of 1s: 12\n",
            "Number of 2s: 14 \n",
            "\n",
            "True values with DT from scratch:\n",
            "Number of 0s: 10\n",
            "Number of 1s: 13\n",
            "Number of 2s: 13\n"
          ]
        }
      ]
    },
    {
      "cell_type": "code",
      "source": [
        "### Metrics for classification to evaluate quality of our tree\n",
        "\n",
        "accuracy = accuracy_score(y_test, y_pred)\n",
        "precision = precision_score(y_test, y_pred, average='weighted')\n",
        "recall = recall_score(y_test, y_pred, average='weighted')\n",
        "f1 = f1_score(y_test, y_pred, average='weighted')\n",
        "\n",
        "print(\"Accuracy:\", accuracy)\n",
        "print(\"Precision : \",precision)\n",
        "print(\"Recall : \", recall)\n",
        "print(\"F1_score : \" ,f1)"
      ],
      "metadata": {
        "colab": {
          "base_uri": "https://localhost:8080/"
        },
        "id": "CgjEqUU74TFN",
        "outputId": "3fd3f686-cf07-4504-d52f-6ccdbafd3288"
      },
      "execution_count": 114,
      "outputs": [
        {
          "output_type": "stream",
          "name": "stdout",
          "text": [
            "Accuracy: 0.9722222222222222\n",
            "Precision :  0.9742063492063492\n",
            "Recall :  0.9722222222222222\n",
            "F1_score :  0.9721810699588479\n"
          ]
        }
      ]
    },
    {
      "cell_type": "markdown",
      "source": [
        " **Comparison with Python Implementation using DecisionTreeClassifier()**\n"
      ],
      "metadata": {
        "id": "_NcxbnYQ4qte"
      }
    },
    {
      "cell_type": "code",
      "source": [
        "# Imports \n",
        "from sklearn.tree import DecisionTreeClassifier, plot_tree\n",
        "import matplotlib.pyplot as plt"
      ],
      "metadata": {
        "id": "86GULOMW5BHz"
      },
      "execution_count": 115,
      "outputs": []
    },
    {
      "cell_type": "code",
      "source": [
        "#### Creation of tree object\n",
        "clf = DecisionTreeClassifier(max_depth = 10, min_samples_leaf = 1,  min_samples_split = 4)\n",
        "\n",
        "# Fit with train data\n",
        "clf = clf.fit(X_train,y_train)\n",
        "\n",
        "# Plot the tree obtained with training data\n",
        "plt.figure(figsize=(20,10))\n",
        "plot_tree(clf, feature_names=wine.feature_names, class_names=wine.target_names, filled=True)\n",
        "plt.show()"
      ],
      "metadata": {
        "colab": {
          "base_uri": "https://localhost:8080/",
          "height": 575
        },
        "id": "VcUpKDof4TAf",
        "outputId": "e40cbce3-064a-46a5-a403-b3486284f78a"
      },
      "execution_count": 116,
      "outputs": [
        {
          "output_type": "display_data",
          "data": {
            "text/plain": [
              "<Figure size 1440x720 with 1 Axes>"
            ],
            "image/png": "[encoded data removed]"
          },
          "metadata": {
            "needs_background": "light"
          }
        }
      ]
    },
    {
      "cell_type": "code",
      "source": [
        "# Predict the classes for test dataset\n",
        "y_pred = clf.predict(X_test)"
      ],
      "metadata": {
        "id": "rI4Yt6ZV5VUx"
      },
      "execution_count": 117,
      "outputs": []
    },
    {
      "cell_type": "code",
      "source": [
        "# Metrics to evaluate quality of Python decision tree\n",
        "acc_score = accuracy_score(y_test, y_pred)\n",
        "precision = precision_score(y_test, y_pred, average='weighted')\n",
        "recall = recall_score(y_test, y_pred, average='weighted')\n",
        "f1 = f1_score(y_test, y_pred, average='weighted')\n",
        "\n",
        "print(\"Accuracy:\", acc_score)\n",
        "print(\"precision: \",precision)\n",
        "print(\"recall: \", recall)\n",
        "print(\"F1_score: \" ,f1)"
      ],
      "metadata": {
        "colab": {
          "base_uri": "https://localhost:8080/"
        },
        "id": "JeumVnis4S7z",
        "outputId": "d7977bb6-6388-4bdd-d4fa-14408d502ab3"
      },
      "execution_count": 119,
      "outputs": [
        {
          "output_type": "stream",
          "name": "stdout",
          "text": [
            "Accuracy: 0.9444444444444444\n",
            "precision:  0.9518518518518518\n",
            "recall:  0.9444444444444444\n",
            "F1_score:  0.9441137566137565\n"
          ]
        }
      ]
    },
    {
      "cell_type": "markdown",
      "source": [
        "On this example, our algorithm performs better than Python implementation for classification task, as it shows higher values for metrics."
      ],
      "metadata": {
        "id": "I1H-fhmt_wNZ"
      }
    },
    {
      "cell_type": "markdown",
      "source": [
        "### **Regression task**"
      ],
      "metadata": {
        "id": "xLsle3iduK6Y"
      }
    },
    {
      "cell_type": "code",
      "source": [
        "# Load the regression dataset\n",
        "\n",
        "california = fetch_california_housing(as_frame=True)\n",
        "print('number of rows:',(len(california.data)))"
      ],
      "metadata": {
        "id": "R0y6Sq_KuR99",
        "colab": {
          "base_uri": "https://localhost:8080/"
        },
        "outputId": "ca5d94c4-cc52-4c80-c79a-35d16813b210"
      },
      "execution_count": 120,
      "outputs": [
        {
          "output_type": "stream",
          "name": "stdout",
          "text": [
            "number of rows: 20640\n"
          ]
        }
      ]
    },
    {
      "cell_type": "code",
      "source": [
        "### Keep only 2000 rows so that the computional cost of the algorithm do not become too high\n",
        "\n",
        "california.data = california.data.head(2000)\n",
        "california.target = california.target.head(2000)\n",
        "df = pd.concat([california.data, california.target], axis=1)\n",
        "df.head()\n",
        "print('New number of rows:',(len(california.data)))"
      ],
      "metadata": {
        "colab": {
          "base_uri": "https://localhost:8080/"
        },
        "id": "fVMyL1FAtnyj",
        "outputId": "93ceadc0-2e13-4770-e387-6b5c8f7c3cb7"
      },
      "execution_count": 121,
      "outputs": [
        {
          "output_type": "stream",
          "name": "stdout",
          "text": [
            "New number of rows: 2000\n"
          ]
        }
      ]
    },
    {
      "cell_type": "code",
      "source": [
        "# Split the dataset\n",
        "X_train, X_test, y_train, y_test = train_test_split(california.data, california.target, test_size=0.2)\n"
      ],
      "metadata": {
        "id": "fc_khJ_xROBC"
      },
      "execution_count": 122,
      "outputs": []
    },
    {
      "cell_type": "code",
      "source": [
        "## Using our algorithm, construction of decision tree for regression task\n",
        "\n",
        "# Create the object and choose the parameters\n",
        "tree = DecisionTree(max_depth=4,min_samples_split=10,min_samples_leaf=5, task='regression')\n",
        "\n",
        "# Build the regression tree and display nodes characteristics\n",
        "tree.fit(X_train, y_train) \n",
        "\n",
        "# Display number of leaves with our method\n",
        "print('\\n number of leaves in the tree:', tree.count_leaves())"
      ],
      "metadata": {
        "id": "xU34wO5vuY8S",
        "colab": {
          "base_uri": "https://localhost:8080/"
        },
        "outputId": "15353d04-03bf-4a43-ef39-2af372916697"
      },
      "execution_count": 123,
      "outputs": [
        {
          "output_type": "stream",
          "name": "stdout",
          "text": [
            "Leaf Node: Depth=4, Samples=99, Value=1.96, MSE=0.39\n",
            "Leaf Node: Depth=4, Samples=27, Value=1.15, MSE=0.17\n",
            "Splitting Node: Depth=3, Samples=126, Feature=6, Threshold=37.94, Gain=0.11, MSE=0.45\n",
            "Leaf Node: Depth=4, Samples=405, Value=1.27, MSE=0.28\n",
            "Leaf Node: Depth=4, Samples=123, Value=0.84, MSE=0.07\n",
            "Splitting Node: Depth=3, Samples=528, Feature=6, Threshold=38.94, Gain=0.03, MSE=0.27\n",
            "Splitting Node: Depth=2, Samples=654, Feature=5, Threshold=2.160919540229885, Gain=0.06, MSE=0.36\n",
            "Leaf Node: Depth=4, Samples=158, Value=2.39, MSE=0.34\n",
            "Leaf Node: Depth=4, Samples=214, Value=1.98, MSE=0.19\n",
            "Splitting Node: Depth=3, Samples=372, Feature=5, Threshold=2.464071856287425, Gain=0.04, MSE=0.30\n",
            "Leaf Node: Depth=4, Samples=103, Value=1.36, MSE=0.09\n",
            "Leaf Node: Depth=4, Samples=124, Value=1.75, MSE=0.19\n",
            "Splitting Node: Depth=3, Samples=227, Feature=0, Threshold=3.9519, Gain=0.04, MSE=0.18\n",
            "Splitting Node: Depth=2, Samples=599, Feature=6, Threshold=37.94, Gain=0.08, MSE=0.33\n",
            "Splitting Node: Depth=1, Samples=1253, Feature=0, Threshold=3.125, Gain=0.10, MSE=0.45\n",
            "Leaf Node: Depth=4, Samples=105, Value=2.74, MSE=0.33\n",
            "Leaf Node: Depth=4, Samples=104, Value=3.44, MSE=0.20\n",
            "Splitting Node: Depth=3, Samples=209, Feature=6, Threshold=37.76, Gain=0.12, MSE=0.39\n",
            "Leaf Node: Depth=4, Samples=44, Value=2.05, MSE=0.10\n",
            "Leaf Node: Depth=4, Samples=23, Value=2.67, MSE=0.12\n",
            "Splitting Node: Depth=3, Samples=67, Feature=0, Threshold=6.0497, Gain=0.08, MSE=0.19\n",
            "Splitting Node: Depth=2, Samples=276, Feature=6, Threshold=37.93, Gain=0.12, MSE=0.46\n",
            "Leaf Node: Depth=4, Samples=14, Value=3.99, MSE=0.18\n",
            "Leaf Node: Depth=4, Samples=9, Value=3.61, MSE=0.03\n",
            "Splitting Node: Depth=3, Samples=23, Feature=2, Threshold=7.179841897233201, Gain=0.03, MSE=0.15\n",
            "Leaf Node: Depth=4, Samples=47, Value=4.62, MSE=0.18\n",
            "Leaf Node: Depth=4, Samples=1, Value=3.50, MSE=0.00\n",
            "Splitting Node: Depth=3, Samples=48, Feature=0, Threshold=13.499, Gain=0.03, MSE=0.20\n",
            "Splitting Node: Depth=2, Samples=71, Feature=2, Threshold=7.56, Gain=0.13, MSE=0.31\n",
            "Splitting Node: Depth=1, Samples=347, Feature=0, Threshold=7.6166, Gain=0.35, MSE=0.78\n",
            "Splitting Node: Depth=0, Samples=1600, Feature=0, Threshold=5.1435, Gain=0.43, MSE=0.95\n",
            "\n",
            " number of leaves in the tree: 16\n"
          ]
        }
      ]
    },
    {
      "cell_type": "code",
      "source": [
        "# Predictions on test dataset\n",
        "y_pred = np.array([tree.predict(x) for x in X_test.values])"
      ],
      "metadata": {
        "id": "RwKRcH970pqr"
      },
      "execution_count": 124,
      "outputs": []
    },
    {
      "cell_type": "code",
      "source": [
        "## Comparison between predicted and true values\n",
        "print('Descriptive analysis predicted values: \\n',(pd.DataFrame(y_pred, columns = ['Price'])).describe(),'\\n')\n",
        "print('Descriptive analysis true values: \\n', y_test.describe())"
      ],
      "metadata": {
        "colab": {
          "base_uri": "https://localhost:8080/"
        },
        "id": "Vcd9wzFfP806",
        "outputId": "bd384503-1147-4556-bd68-a257643c8ff5"
      },
      "execution_count": 125,
      "outputs": [
        {
          "output_type": "stream",
          "name": "stdout",
          "text": [
            "Descriptive analysis predicted values: \n",
            "             Price\n",
            "count  400.000000\n",
            "mean     1.861139\n",
            "std      0.781847\n",
            "min      0.837325\n",
            "25%      1.268647\n",
            "50%      1.853808\n",
            "75%      2.394785\n",
            "max      4.623260 \n",
            "\n",
            "Descriptive analysis true values: \n",
            " count    400.000000\n",
            "mean       1.832880\n",
            "std        0.907002\n",
            "min        0.225000\n",
            "25%        1.127250\n",
            "50%        1.667500\n",
            "75%        2.300500\n",
            "max        5.000010\n",
            "Name: MedHouseVal, dtype: float64\n"
          ]
        }
      ]
    },
    {
      "cell_type": "code",
      "source": [
        "# Metrics for regression to evaluate quality of our decision tree\n",
        "mse = np.mean((y_test - y_pred)**2)\n",
        "rmse = np.sqrt(np.mean((y_test - y_pred)**2))\n",
        "r2=r2_score(y_test, y_pred)\n",
        "\n",
        "print(\"MSE: \", mse) ### mse ??\n",
        "print(f\"RMSE: {rmse:.3f}\")\n",
        "print('R2 :',r2)"
      ],
      "metadata": {
        "colab": {
          "base_uri": "https://localhost:8080/"
        },
        "id": "Af-t0vHdL18i",
        "outputId": "0867e44a-6624-4ddd-9761-049f74459346"
      },
      "execution_count": 126,
      "outputs": [
        {
          "output_type": "stream",
          "name": "stdout",
          "text": [
            "MSE:  0.2915210774292119\n",
            "RMSE: 0.540\n",
            "R2 : 0.6447450532993002\n"
          ]
        }
      ]
    },
    {
      "cell_type": "markdown",
      "source": [
        "**Comparison with Python implementation of decision tree regressor**"
      ],
      "metadata": {
        "id": "A_cX_vK0LQ9x"
      }
    },
    {
      "cell_type": "code",
      "source": [
        " #Create a decision tree regressor and fit it to the training data\n",
        "tree = DecisionTreeRegressor(max_depth=4, min_samples_split=10,  min_samples_leaf = 5,random_state=42)\n",
        "tree.fit(X_train, y_train)\n"
      ],
      "metadata": {
        "id": "gj2Ube_TLPs9",
        "colab": {
          "base_uri": "https://localhost:8080/",
          "height": 92
        },
        "outputId": "d01786df-d3e9-4b1a-a82f-6c2ec0d2abe4"
      },
      "execution_count": 128,
      "outputs": [
        {
          "output_type": "execute_result",
          "data": {
            "text/plain": [
              "DecisionTreeRegressor(max_depth=4, min_samples_leaf=5, min_samples_split=10,\n",
              "                      random_state=42)"
            ],
            "text/html": [
              "<style>#sk-container-id-4 {color: black;background-color: white;}#sk-container-id-4 pre{padding: 0;}#sk-container-id-4 div.sk-toggleable {background-color: white;}#sk-container-id-4 label.sk-toggleable__label {cursor: pointer;display: block;width: 100%;margin-bottom: 0;padding: 0.3em;box-sizing: border-box;text-align: center;}#sk-container-id-4 label.sk-toggleable__label-arrow:before {content: \"▸\";float: left;margin-right: 0.25em;color: #696969;}#sk-container-id-4 label.sk-toggleable__label-arrow:hover:before {color: black;}#sk-container-id-4 div.sk-estimator:hover label.sk-toggleable__label-arrow:before {color: black;}#sk-container-id-4 div.sk-toggleable__content {max-height: 0;max-width: 0;overflow: hidden;text-align: left;background-color: #f0f8ff;}#sk-container-id-4 div.sk-toggleable__content pre {margin: 0.2em;color: black;border-radius: 0.25em;background-color: #f0f8ff;}#sk-container-id-4 input.sk-toggleable__control:checked~div.sk-toggleable__content {max-height: 200px;max-width: 100%;overflow: auto;}#sk-container-id-4 input.sk-toggleable__control:checked~label.sk-toggleable__label-arrow:before {content: \"▾\";}#sk-container-id-4 div.sk-estimator input.sk-toggleable__control:checked~label.sk-toggleable__label {background-color: #d4ebff;}#sk-container-id-4 div.sk-label input.sk-toggleable__control:checked~label.sk-toggleable__label {background-color: #d4ebff;}#sk-container-id-4 input.sk-hidden--visually {border: 0;clip: rect(1px 1px 1px 1px);clip: rect(1px, 1px, 1px, 1px);height: 1px;margin: -1px;overflow: hidden;padding: 0;position: absolute;width: 1px;}#sk-container-id-4 div.sk-estimator {font-family: monospace;background-color: #f0f8ff;border: 1px dotted black;border-radius: 0.25em;box-sizing: border-box;margin-bottom: 0.5em;}#sk-container-id-4 div.sk-estimator:hover {background-color: #d4ebff;}#sk-container-id-4 div.sk-parallel-item::after {content: \"\";width: 100%;border-bottom: 1px solid gray;flex-grow: 1;}#sk-container-id-4 div.sk-label:hover label.sk-toggleable__label {background-color: #d4ebff;}#sk-container-id-4 div.sk-serial::before {content: \"\";position: absolute;border-left: 1px solid gray;box-sizing: border-box;top: 0;bottom: 0;left: 50%;z-index: 0;}#sk-container-id-4 div.sk-serial {display: flex;flex-direction: column;align-items: center;background-color: white;padding-right: 0.2em;padding-left: 0.2em;position: relative;}#sk-container-id-4 div.sk-item {position: relative;z-index: 1;}#sk-container-id-4 div.sk-parallel {display: flex;align-items: stretch;justify-content: center;background-color: white;position: relative;}#sk-container-id-4 div.sk-item::before, #sk-container-id-4 div.sk-parallel-item::before {content: \"\";position: absolute;border-left: 1px solid gray;box-sizing: border-box;top: 0;bottom: 0;left: 50%;z-index: -1;}#sk-container-id-4 div.sk-parallel-item {display: flex;flex-direction: column;z-index: 1;position: relative;background-color: white;}#sk-container-id-4 div.sk-parallel-item:first-child::after {align-self: flex-end;width: 50%;}#sk-container-id-4 div.sk-parallel-item:last-child::after {align-self: flex-start;width: 50%;}#sk-container-id-4 div.sk-parallel-item:only-child::after {width: 0;}#sk-container-id-4 div.sk-dashed-wrapped {border: 1px dashed gray;margin: 0 0.4em 0.5em 0.4em;box-sizing: border-box;padding-bottom: 0.4em;background-color: white;}#sk-container-id-4 div.sk-label label {font-family: monospace;font-weight: bold;display: inline-block;line-height: 1.2em;}#sk-container-id-4 div.sk-label-container {text-align: center;}#sk-container-id-4 div.sk-container {/* jupyter's `normalize.less` sets `[hidden] { display: none; }` but bootstrap.min.css set `[hidden] { display: none !important; }` so we also need the `!important` here to be able to override the default hidden behavior on the sphinx rendered scikit-learn.org. See: https://github.com/scikit-learn/scikit-learn/issues/21755 */display: inline-block !important;position: relative;}#sk-container-id-4 div.sk-text-repr-fallback {display: none;}</style><div id=\"sk-container-id-4\" class=\"sk-top-container\"><div class=\"sk-text-repr-fallback\"><pre>DecisionTreeRegressor(max_depth=4, min_samples_leaf=5, min_samples_split=10,\n",
              "                      random_state=42)</pre><b>In a Jupyter environment, please rerun this cell to show the HTML representation or trust the notebook. <br />On GitHub, the HTML representation is unable to render, please try loading this page with nbviewer.org.</b></div><div class=\"sk-container\" hidden><div class=\"sk-item\"><div class=\"sk-estimator sk-toggleable\"><input class=\"sk-toggleable__control sk-hidden--visually\" id=\"sk-estimator-id-4\" type=\"checkbox\" checked><label for=\"sk-estimator-id-4\" class=\"sk-toggleable__label sk-toggleable__label-arrow\">DecisionTreeRegressor</label><div class=\"sk-toggleable__content\"><pre>DecisionTreeRegressor(max_depth=4, min_samples_leaf=5, min_samples_split=10,\n",
              "                      random_state=42)</pre></div></div></div></div></div>"
            ]
          },
          "metadata": {},
          "execution_count": 128
        }
      ]
    },
    {
      "cell_type": "code",
      "source": [
        "### Plot the tree\n",
        "\n",
        "from sklearn.tree import plot_tree\n",
        "import matplotlib.pyplot as plt\n",
        "plt.figure(figsize=(20,10))\n",
        "plot_tree(tree, feature_names=california.feature_names, class_names=california.target_names, filled=True)\n",
        "plt.show()"
      ],
      "metadata": {
        "colab": {
          "base_uri": "https://localhost:8080/",
          "height": 575
        },
        "id": "6d3hV7oauumk",
        "outputId": "58e6021f-73b3-429c-e121-f7510ec53dc2"
      },
      "execution_count": 129,
      "outputs": [
        {
          "output_type": "display_data",
          "data": {
            "text/plain": [
              "<Figure size 1440x720 with 1 Axes>"
            ],
            "image/png": "[encoded data removed]"
          },
          "metadata": {
            "needs_background": "light"
          }
        }
      ]
    },
    {
      "cell_type": "code",
      "source": [
        "# Predictions on test dataset\n",
        "y_pred = tree.predict(X_test)"
      ],
      "metadata": {
        "id": "ffgNYfsr8tXs"
      },
      "execution_count": 130,
      "outputs": []
    },
    {
      "cell_type": "code",
      "source": [
        "## Metrics to evaluate quality of python decision tree\n",
        "mse = mean_squared_error(y_test,y_pred)\n",
        "rmse = np.sqrt(mean_squared_error(y_test, y_pred))\n",
        "r2=r2_score(y_test, y_pred)\n",
        "\n",
        "print(\"MSE: \", mse)\n",
        "print(f\"RMSE: {rmse:.3f}\")\n",
        "print('R2 :',r2)"
      ],
      "metadata": {
        "colab": {
          "base_uri": "https://localhost:8080/"
        },
        "id": "PbscAFWa8vYn",
        "outputId": "6ced1dfb-5f44-44e4-de43-3d5472ec1477"
      },
      "execution_count": 131,
      "outputs": [
        {
          "output_type": "stream",
          "name": "stdout",
          "text": [
            "MSE:  0.28769721648048086\n",
            "RMSE: 0.536\n",
            "R2 : 0.6494049068149081\n"
          ]
        }
      ]
    },
    {
      "cell_type": "markdown",
      "source": [
        "Our algorithm performs as good as Python implementation for classification (R2 of 64%)"
      ],
      "metadata": {
        "id": "KELIJKNrR6FV"
      }
    }
  ]
}